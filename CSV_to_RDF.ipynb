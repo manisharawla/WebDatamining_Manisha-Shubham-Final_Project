{
  "nbformat": 4,
  "nbformat_minor": 0,
  "metadata": {
    "colab": {
      "provenance": []
    },
    "kernelspec": {
      "name": "python3",
      "display_name": "Python 3"
    },
    "language_info": {
      "name": "python"
    },
    "gpuClass": "standard"
  },
  "cells": [
    {
      "cell_type": "code",
      "execution_count": 3,
      "metadata": {
        "id": "6qCueGB6LSh4"
      },
      "outputs": [],
      "source": [
        "import csv\n",
        "from rdflib import Graph, Literal, Namespace, RDF,RDFS, URIRef"
      ]
    },
    {
      "cell_type": "code",
      "source": [
        "!pip install rdflib"
      ],
      "metadata": {
        "id": "pOakAwZxP8So",
        "colab": {
          "base_uri": "https://localhost:8080/"
        },
        "outputId": "75da3246-376e-469b-eefc-d7cc1fa517fe"
      },
      "execution_count": 2,
      "outputs": [
        {
          "output_type": "stream",
          "name": "stdout",
          "text": [
            "Looking in indexes: https://pypi.org/simple, https://us-python.pkg.dev/colab-wheels/public/simple/\n",
            "Collecting rdflib\n",
            "  Downloading rdflib-6.2.0-py3-none-any.whl (500 kB)\n",
            "\u001b[2K     \u001b[90m━━━━━━━━━━━━━━━━━━━━━━━━━━━━━━━━━━━━━━━\u001b[0m \u001b[32m500.3/500.3 KB\u001b[0m \u001b[31m8.8 MB/s\u001b[0m eta \u001b[36m0:00:00\u001b[0m\n",
            "\u001b[?25hRequirement already satisfied: pyparsing in /usr/local/lib/python3.9/dist-packages (from rdflib) (3.0.9)\n",
            "Requirement already satisfied: setuptools in /usr/local/lib/python3.9/dist-packages (from rdflib) (63.4.3)\n",
            "Collecting isodate\n",
            "  Downloading isodate-0.6.1-py2.py3-none-any.whl (41 kB)\n",
            "\u001b[2K     \u001b[90m━━━━━━━━━━━━━━━━━━━━━━━━━━━━━━━━━━━━━━━━\u001b[0m \u001b[32m41.7/41.7 KB\u001b[0m \u001b[31m4.4 MB/s\u001b[0m eta \u001b[36m0:00:00\u001b[0m\n",
            "\u001b[?25hRequirement already satisfied: six in /usr/local/lib/python3.9/dist-packages (from isodate->rdflib) (1.15.0)\n",
            "Installing collected packages: isodate, rdflib\n",
            "Successfully installed isodate-0.6.1 rdflib-6.2.0\n"
          ]
        }
      ]
    },
    {
      "cell_type": "code",
      "source": [
        "# Defining the ontology\n",
        "ont = Namespace('http://www.semanticweb.org/tai/ontologies/2023/2/untitled-ontology-20#')\n",
        "movie_class = ont.Movie\n",
        "genre_class = ont.Genre\n",
        "actor_class = ont.Actor\n",
        "director_class = ont.Director\n",
        "writer_class = ont.Writer"
      ],
      "metadata": {
        "id": "bmqxnAMBsOSN"
      },
      "execution_count": 4,
      "outputs": []
    },
    {
      "cell_type": "code",
      "source": [
        "graph = Graph()"
      ],
      "metadata": {
        "id": "7s58HlaBP_qC"
      },
      "execution_count": 5,
      "outputs": []
    },
    {
      "cell_type": "code",
      "source": [
        "import io\n",
        "with io.open('/content/movies.csv', newline='', encoding= 'latin-1') as csvfile:\n",
        "    reader = csv.DictReader(csvfile)\n",
        "    for row in reader:\n",
        "        # Create a new URI for the movie\n",
        "        movie_uri = URIRef(ont + row['Movie'].replace(' ', '_'))\n",
        "\n",
        "        # Add triples for the genres\n",
        "        for genre in row['Genre'].split(','):\n",
        "            genre_uri = URIRef(ont + genre.replace(' ', ''))\n",
        "            graph.add((genre_uri, RDF.type, genre_class))\n",
        "            graph.add((movie_uri, RDF.type, genre_uri))\n",
        "\n",
        "        # Add triples for the actors\n",
        "        for actor in row['Actors'].split(','):\n",
        "            actor_uri = URIRef(ont + actor.replace(' ', ''))\n",
        "            graph.add((movie_uri, ont.hasActor, actor_uri))\n",
        "            graph.add((actor_uri, RDF.type, actor_class))\n",
        "\n",
        "        # Add triples for the director\n",
        "        for director in row['Director'].split(','):\n",
        "            director_uri = URIRef(ont + row['Director'].replace(' ', ''))\n",
        "            graph.add((movie_uri, ont.isDirectedby, director_uri))\n",
        "            graph.add((director_uri, RDF.type, director_class))\n",
        "\n",
        "        # Add triples for the writers\n",
        "        for writer in row['Writer'].split(','):\n",
        "            writer_uri = URIRef(ont + writer.replace(' ', ''))\n",
        "            graph.add((movie_uri, ont.isWrittenby, writer_uri))\n",
        "            graph.add((writer_uri, RDF.type, writer_class))\n",
        "\n",
        "        # Add triples for the country, language, title, and year\n",
        "        graph.add((movie_uri, ont.country, Literal(row['Country'])))\n",
        "        graph.add((movie_uri, ont.language, Literal(row['Language'])))\n",
        "        graph.add((movie_uri, ont.title, Literal(row['Movie'])))\n",
        "        graph.add((movie_uri, ont.year, Literal(int(row['Year']))))"
      ],
      "metadata": {
        "id": "q3gB0PAjvNXU"
      },
      "execution_count": 15,
      "outputs": []
    },
    {
      "cell_type": "code",
      "source": [],
      "metadata": {
        "id": "y2sYKTfQQxy_"
      },
      "execution_count": 18,
      "outputs": []
    },
    {
      "cell_type": "code",
      "source": [
        "#printing the file saved in RDF"
      ],
      "metadata": {
        "id": "huPeH_YtfaEo"
      },
      "execution_count": 19,
      "outputs": []
    },
    {
      "cell_type": "code",
      "source": [
        "with open('movies.rdf', 'wb') as f:\n",
        "    f.write(graph.serialize(format='xml').encode())"
      ],
      "metadata": {
        "id": "B6mj09mPSyBK"
      },
      "execution_count": 18,
      "outputs": []
    }
  ]
}